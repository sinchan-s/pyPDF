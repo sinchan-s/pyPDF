{
 "cells": [
  {
   "cell_type": "markdown",
   "metadata": {},
   "source": [
    "## Basic Libraries"
   ]
  },
  {
   "cell_type": "code",
   "execution_count": 1,
   "metadata": {},
   "outputs": [],
   "source": [
    "from fpdf import FPDF\n",
    "from base64 import b64encode\n",
    "from IPython.display import display, HTML"
   ]
  },
  {
   "cell_type": "markdown",
   "metadata": {},
   "source": [
    "## PDF display function"
   ]
  },
  {
   "cell_type": "code",
   "execution_count": 2,
   "metadata": {},
   "outputs": [],
   "source": [
    "def disp_pdf(pdf_bytes):\n",
    "    WIDTH, HEIGHT = 800, 400 \n",
    "    base64_pdf = b64encode(pdf_bytes).decode(\"utf-8\")\n",
    "    display(HTML(f'<embed height=\"{HEIGHT}\" src=\"data:application/pdf;base64,{base64_pdf}\" type=\"application/pdf\" width=\"{WIDTH}\"/>'))"
   ]
  },
  {
   "cell_type": "markdown",
   "metadata": {},
   "source": [
    "## Generate a test PDF"
   ]
  },
  {
   "cell_type": "code",
   "execution_count": 3,
   "metadata": {},
   "outputs": [],
   "source": [
    "pdf = FPDF()\n",
    "pdf.add_page()\n",
    "pdf.set_font('helvetica', size=48)\n",
    "pdf.cell(txt=\"hello world\")\n",
    "pdf_bytes1 = pdf.output()"
   ]
  },
  {
   "cell_type": "markdown",
   "metadata": {},
   "source": [
    "## Display the PDF in the notebook by embedding it as HTML content: Basic Example"
   ]
  },
  {
   "cell_type": "code",
   "execution_count": 4,
   "metadata": {
    "scrolled": false
   },
   "outputs": [
    {
     "data": {
      "text/html": [
       "<embed height=\"400\" src=\"data:application/pdf;base64,JVBERi0xLjMKMSAwIG9iago8PAovQ291bnQgMQovS2lkcyBbMyAwIFJdCi9NZWRpYUJveCBbMCAwIDU5NS4yOCA4NDEuODldCi9UeXBlIC9QYWdlcwo+PgplbmRvYmoKMiAwIG9iago8PAovT3BlbkFjdGlvbiBbMyAwIFIgL0ZpdEggbnVsbF0KL1BhZ2VMYXlvdXQgL09uZUNvbHVtbgovUGFnZXMgMSAwIFIKL1R5cGUgL0NhdGFsb2cKPj4KZW5kb2JqCjMgMCBvYmoKPDwKL0NvbnRlbnRzIDQgMCBSCi9QYXJlbnQgMSAwIFIKL1Jlc291cmNlcyA2IDAgUgovVHlwZSAvUGFnZQo+PgplbmRvYmoKNCAwIG9iago8PAovRmlsdGVyIC9GbGF0ZURlY29kZQovTGVuZ3RoIDczCj4+CnN0cmVhbQp4nDNS8OIy0DM1VyjncgpR0HczVDCx0DMwUAhJU3ANAQkZG+oZWiiYm5vqGZoohKQoaGSk5uTkK5TnF+WkaCqEZIGUAQALrhByCmVuZHN0cmVhbQplbmRvYmoKNSAwIG9iago8PAovQmFzZUZvbnQgL0hlbHZldGljYQovRW5jb2RpbmcgL1dpbkFuc2lFbmNvZGluZwovU3VidHlwZSAvVHlwZTEKL1R5cGUgL0ZvbnQKPj4KZW5kb2JqCjYgMCBvYmoKPDwKL0ZvbnQgPDwvRjEgNSAwIFI+PgovUHJvY1NldCBbL1BERiAvVGV4dCAvSW1hZ2VCIC9JbWFnZUMgL0ltYWdlSV0KPj4KZW5kb2JqCjcgMCBvYmoKPDwKL0NyZWF0aW9uRGF0ZSAoRDoyMDIzMDkxMjE2MjgyNFoxNicyOCcpCj4+CmVuZG9iagp4cmVmCjAgOAowMDAwMDAwMDAwIDY1NTM1IGYgCjAwMDAwMDAwMDkgMDAwMDAgbiAKMDAwMDAwMDA5NiAwMDAwMCBuIAowMDAwMDAwMTk5IDAwMDAwIG4gCjAwMDAwMDAyNzkgMDAwMDAgbiAKMDAwMDAwMDQyMyAwMDAwMCBuIAowMDAwMDAwNTIwIDAwMDAwIG4gCjAwMDAwMDA2MDcgMDAwMDAgbiAKdHJhaWxlcgo8PAovU2l6ZSA4Ci9Sb290IDIgMCBSCi9JbmZvIDcgMCBSCi9JRCBbPDAyRTJCQTk2Njg2OEQ3QzY1REE5OTA0Q0ZCNEJGMEVGPjwwMkUyQkE5NjY4NjhEN0M2NURBOTkwNENGQjRCRjBFRj5dCj4+CnN0YXJ0eHJlZgo2NjgKJSVFT0YK\" type=\"application/pdf\" width=\"800\"/>"
      ],
      "text/plain": [
       "<IPython.core.display.HTML object>"
      ]
     },
     "metadata": {},
     "output_type": "display_data"
    }
   ],
   "source": [
    "disp_pdf(pdf_bytes1)"
   ]
  },
  {
   "cell_type": "markdown",
   "metadata": {},
   "source": [
    "## Display Table Data in PDF"
   ]
  },
  {
   "cell_type": "code",
   "execution_count": 5,
   "metadata": {},
   "outputs": [],
   "source": [
    "TABLE_DATA = (\n",
    "    (\"First name\", \"Last name\", \"Age\", \"City\"),\n",
    "    (\"Jules\", \"Smith\", \"34\", \"San Juan\"),\n",
    "    (\"Mary\", \"Ramos\", \"45\", \"Orlando\"),\n",
    "    (\"Carlson\", \"Banks\", \"19\", \"Los Angeles\"),\n",
    "    (\"Lucas\", \"Cimon\", \"31\", \"Saint-Mahturin-sur-Loire\"),\n",
    ")"
   ]
  },
  {
   "cell_type": "markdown",
   "metadata": {},
   "source": [
    "### Normal table"
   ]
  },
  {
   "cell_type": "code",
   "execution_count": 6,
   "metadata": {},
   "outputs": [
    {
     "data": {
      "text/html": [
       "<embed height=\"400\" src=\"data:application/pdf;base64,JVBERi0xLjMKMSAwIG9iago8PAovQ291bnQgMQovS2lkcyBbMyAwIFJdCi9NZWRpYUJveCBbMCAwIDU5NS4yOCA4NDEuODldCi9UeXBlIC9QYWdlcwo+PgplbmRvYmoKMiAwIG9iago8PAovT3BlbkFjdGlvbiBbMyAwIFIgL0ZpdEggbnVsbF0KL1BhZ2VMYXlvdXQgL09uZUNvbHVtbgovUGFnZXMgMSAwIFIKL1R5cGUgL0NhdGFsb2cKPj4KZW5kb2JqCjMgMCBvYmoKPDwKL0NvbnRlbnRzIDQgMCBSCi9QYXJlbnQgMSAwIFIKL1Jlc291cmNlcyA3IDAgUgovVHlwZSAvUGFnZQo+PgplbmRvYmoKNCAwIG9iago8PAovRmlsdGVyIC9GbGF0ZURlY29kZQovTGVuZ3RoIDY1MAo+PgpzdHJlYW0KeJydl8tu2zAQRff5Ci6bhVnxIUpaJkGyMBwUaPwDROMmai0J0ANF/r52LXLIGct0upzJxZ07mqPYlmx9k/G8YH9u7rfs65NgwvAsY9uf7HF7asmoJUuuclYKxXPNGnYqi1Icyz17YejvwkheVa4+CuKOVxCLuXFOcIilBBclKyrJC822r+zLU90PI2tts7tl218+fHKfdByskFXBjQ5XijteQT38TlRxiCZMzksVLrWx/7VTOg9WaCW5jM4Ud7yCevidqOJ4pyzjugh3unv75DbpJFiRG8MrFW4Td7yCevhtqOIQTaucCxlu81CPHxfWQSjPpa6uRh2D42picWqcE8DbYjIXez3td4PLnZ6RxhfD4Grq4YJSRfAKQNKXph7fXdL0lDSU+NCuph4uKVUEYENSpV3M9Ig0bXEHFNTDxaSKgNjggdqWrSfb+mca8zOXoriaL3xYVxOLU+OcABA9SOecz7b/wIQuj0jTha/qaurhclJFQCgE/W6bbsCELk9J04UP62rq4ZJSRUAoJNU5JnR5RJquuAMK6uFiUkVAKMT81u9t+9ohQP1V/pWmzK+mC991ronF3Dgn8ICayvh//bbfD12LGV2ekuYL33WuqYePShXAaJD13ra/CaPLU9J84dPONfXwSakCGA2SigozujwizVfc8Qrq4WNSBTAaxNx0A7tr33bBxyiCaC6luBoyfFtXEwsplgTAqfav02b6YfFn/YUZacLwZV1NPaRYUgSUQtKHuoH3KT0lTRg+rquphxRLioBSSKoEopSMyPE36QuExR1QgEfAoNHwSV634+rZvo9TX7erYepXOFWultaKZ8BMib8o+UdDFUEqBb9Zurr33/D/AgJbB/oKZW5kc3RyZWFtCmVuZG9iago1IDAgb2JqCjw8Ci9CYXNlRm9udCAvVGltZXMtUm9tYW4KL0VuY29kaW5nIC9XaW5BbnNpRW5jb2RpbmcKL1N1YnR5cGUgL1R5cGUxCi9UeXBlIC9Gb250Cj4+CmVuZG9iago2IDAgb2JqCjw8Ci9CYXNlRm9udCAvVGltZXMtQm9sZAovRW5jb2RpbmcgL1dpbkFuc2lFbmNvZGluZwovU3VidHlwZSAvVHlwZTEKL1R5cGUgL0ZvbnQKPj4KZW5kb2JqCjcgMCBvYmoKPDwKL0ZvbnQgPDwvRjEgNSAwIFIKL0YyIDYgMCBSPj4KL1Byb2NTZXQgWy9QREYgL1RleHQgL0ltYWdlQiAvSW1hZ2VDIC9JbWFnZUldCj4+CmVuZG9iago4IDAgb2JqCjw8Ci9DcmVhdGlvbkRhdGUgKEQ6MjAyMzA5MTIxNjI4MjRaMTYnMjgnKQo+PgplbmRvYmoKeHJlZgowIDkKMDAwMDAwMDAwMCA2NTUzNSBmIAowMDAwMDAwMDA5IDAwMDAwIG4gCjAwMDAwMDAwOTYgMDAwMDAgbiAKMDAwMDAwMDE5OSAwMDAwMCBuIAowMDAwMDAwMjc5IDAwMDAwIG4gCjAwMDAwMDEwMDEgMDAwMDAgbiAKMDAwMDAwMTEwMCAwMDAwMCBuIAowMDAwMDAxMTk4IDAwMDAwIG4gCjAwMDAwMDEyOTUgMDAwMDAgbiAKdHJhaWxlcgo8PAovU2l6ZSA5Ci9Sb290IDIgMCBSCi9JbmZvIDggMCBSCi9JRCBbPDJCMTBCNzZGQjlEMDNBREY4NThCOTUwMzIzODJCQzIwPjwyQjEwQjc2RkI5RDAzQURGODU4Qjk1MDMyMzgyQkMyMD5dCj4+CnN0YXJ0eHJlZgoxMzU2CiUlRU9GCg==\" type=\"application/pdf\" width=\"800\"/>"
      ],
      "text/plain": [
       "<IPython.core.display.HTML object>"
      ]
     },
     "metadata": {},
     "output_type": "display_data"
    }
   ],
   "source": [
    "pdf = FPDF()\n",
    "pdf.add_page()\n",
    "pdf.set_font(\"Times\", size=16)\n",
    "with pdf.table() as table:\n",
    "    for data_row in TABLE_DATA:\n",
    "        row = table.row()\n",
    "        for datum in data_row:\n",
    "            row.cell(datum)\n",
    "pdf_bytes = pdf.output()\n",
    "disp_pdf(pdf_bytes)"
   ]
  },
  {
   "cell_type": "markdown",
   "metadata": {},
   "source": [
    "### Changing table, column widths & alignment"
   ]
  },
  {
   "cell_type": "code",
   "execution_count": 7,
   "metadata": {},
   "outputs": [
    {
     "data": {
      "text/html": [
       "<embed height=\"400\" src=\"data:application/pdf;base64,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\" type=\"application/pdf\" width=\"800\"/>"
      ],
      "text/plain": [
       "<IPython.core.display.HTML object>"
      ]
     },
     "metadata": {},
     "output_type": "display_data"
    }
   ],
   "source": [
    "pdf = FPDF()\n",
    "pdf.add_page()\n",
    "pdf.set_font(\"Times\", size=16)\n",
    "with pdf.table(width=150, col_widths=(30, 30, 10, 30),text_align=(\"RIGHT\", \"LEFT\", \"CENTER\", \"CENTER\")) as table:\n",
    "    for data_row in TABLE_DATA:\n",
    "        row = table.row()\n",
    "        for datum in data_row:\n",
    "            row.cell(datum)\n",
    "pdf_bytes = pdf.output()\n",
    "disp_pdf(pdf_bytes)"
   ]
  },
  {
   "cell_type": "markdown",
   "metadata": {},
   "source": [
    "### Heading styling"
   ]
  },
  {
   "cell_type": "code",
   "execution_count": 8,
   "metadata": {
    "scrolled": false
   },
   "outputs": [
    {
     "data": {
      "text/html": [
       "<embed height=\"400\" src=\"data:application/pdf;base64,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\" type=\"application/pdf\" width=\"800\"/>"
      ],
      "text/plain": [
       "<IPython.core.display.HTML object>"
      ]
     },
     "metadata": {},
     "output_type": "display_data"
    }
   ],
   "source": [
    "from fpdf.fonts import FontFace\n",
    "pdf = FPDF()\n",
    "pdf.add_page()\n",
    "pdf.set_font(\"Times\", size=16)\n",
    "blue = (0, 0, 255)\n",
    "grey = (128, 128, 128)\n",
    "headings_style = FontFace(emphasis=\"ITALICS\", color=(255,255,255), fill_color=grey)\n",
    "with pdf.table(headings_style=headings_style,text_align=\"CENTER\") as table:\n",
    "    for data_row in TABLE_DATA:\n",
    "        row = table.row()\n",
    "        for datum in data_row:\n",
    "            row.cell(datum)\n",
    "pdf_bytes = pdf.output()\n",
    "disp_pdf(pdf_bytes)"
   ]
  },
  {
   "cell_type": "markdown",
   "metadata": {},
   "source": [
    "### Cell color filing & Internal table layout"
   ]
  },
  {
   "cell_type": "code",
   "execution_count": 9,
   "metadata": {
    "scrolled": false
   },
   "outputs": [
    {
     "data": {
      "text/html": [
       "<embed height=\"400\" src=\"data:application/pdf;base64,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\" type=\"application/pdf\" width=\"800\"/>"
      ],
      "text/plain": [
       "<IPython.core.display.HTML object>"
      ]
     },
     "metadata": {},
     "output_type": "display_data"
    }
   ],
   "source": [
    "pdf = FPDF()\n",
    "pdf.add_page()\n",
    "pdf.set_font(\"Times\", size=16)\n",
    "with pdf.table(borders_layout=\"INTERNAL\",cell_fill_color=(173, 216, 230), cell_fill_mode=\"COLUMNS\") as table:\n",
    "    for data_row in TABLE_DATA:\n",
    "        row = table.row()\n",
    "        for datum in data_row:\n",
    "            row.cell(datum)\n",
    "pdf_bytes = pdf.output()\n",
    "disp_pdf(pdf_bytes)"
   ]
  },
  {
   "cell_type": "markdown",
   "metadata": {},
   "source": [
    "### Minimal table layout"
   ]
  },
  {
   "cell_type": "code",
   "execution_count": 10,
   "metadata": {},
   "outputs": [
    {
     "data": {
      "text/html": [
       "<embed height=\"400\" src=\"data:application/pdf;base64,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\" type=\"application/pdf\" width=\"800\"/>"
      ],
      "text/plain": [
       "<IPython.core.display.HTML object>"
      ]
     },
     "metadata": {},
     "output_type": "display_data"
    }
   ],
   "source": [
    "pdf = FPDF()\n",
    "pdf.add_page()\n",
    "pdf.set_font(\"Times\", size=16)\n",
    "with pdf.table(borders_layout=\"MINIMAL\",cell_fill_color=(173, 216, 230), cell_fill_mode=\"COLUMNS\") as table:\n",
    "    for data_row in TABLE_DATA:\n",
    "        row = table.row()\n",
    "        for datum in data_row:\n",
    "            row.cell(datum)\n",
    "pdf_bytes = pdf.output()\n",
    "disp_pdf(pdf_bytes)"
   ]
  },
  {
   "cell_type": "markdown",
   "metadata": {},
   "source": [
    "### Table top-line & row-wise filling"
   ]
  },
  {
   "cell_type": "code",
   "execution_count": 11,
   "metadata": {
    "scrolled": false
   },
   "outputs": [
    {
     "data": {
      "text/html": [
       "<embed height=\"400\" src=\"data:application/pdf;base64,JVBERi0xLjMKMSAwIG9iago8PAovQ291bnQgMQovS2lkcyBbMyAwIFJdCi9NZWRpYUJveCBbMCAwIDU5NS4yOCA4NDEuODldCi9UeXBlIC9QYWdlcwo+PgplbmRvYmoKMiAwIG9iago8PAovT3BlbkFjdGlvbiBbMyAwIFIgL0ZpdEggbnVsbF0KL1BhZ2VMYXlvdXQgL09uZUNvbHVtbgovUGFnZXMgMSAwIFIKL1R5cGUgL0NhdGFsb2cKPj4KZW5kb2JqCjMgMCBvYmoKPDwKL0NvbnRlbnRzIDQgMCBSCi9QYXJlbnQgMSAwIFIKL1Jlc291cmNlcyA3IDAgUgovVHlwZSAvUGFnZQo+PgplbmRvYmoKNCAwIG9iago8PAovRmlsdGVyIC9GbGF0ZURlY29kZQovTGVuZ3RoIDQyOQo+PgpzdHJlYW0KeJydlEtPhDAUhff8irvUBZU+KLCcmTgmk5kYHf5A47xQKJFHjP9ejJS2A9jokvRwvt57DhDYeAEKI/jwlincrTFgjoIA0hPcp90JTjiGBw8jRpSEWBISIxpCFGMUMii6I4KSRD3nsIfuHYoRjiFKCIoYpAe4WWdV3YAUxfEW0tdvmwn4BMx2L4AkEeLsioZ5iGJq4rbiXzTbvQBGCSKj2YIAscikLc5/5Ni+BYSco4RecRgNESYmZ5U1n7+AAhTFjMLZewcrI0wZ4iH4HbTTVkc4gTPDAM5GjjxQV9i0+bHu7wBPXiczsbbPBNcdZw9WkWryvsiayyzZNpqa2BmtGrmPV5Mpm8XaLhNYd9I9VqVtDCwkbFohbbgOpcuwV+5EZfZC7U4LnkVR1oZCzagVLDSO1V308WOVC3kolWbcNBzNLMAqEk/40GVR5XUpnVVyGffDGs5LId/mK6p64Lzwz4oMX5w4a+Ay7RdrmG7LGhbyfBx9VXpnbEhh276Iehy0oVhlxbBTI2hDQfE4aM6ZLl0mG38nLk1bZdKv28qf0FP9oy2zavj5fQFdTGfICmVuZHN0cmVhbQplbmRvYmoKNSAwIG9iago8PAovQmFzZUZvbnQgL1RpbWVzLVJvbWFuCi9FbmNvZGluZyAvV2luQW5zaUVuY29kaW5nCi9TdWJ0eXBlIC9UeXBlMQovVHlwZSAvRm9udAo+PgplbmRvYmoKNiAwIG9iago8PAovQmFzZUZvbnQgL1RpbWVzLUJvbGQKL0VuY29kaW5nIC9XaW5BbnNpRW5jb2RpbmcKL1N1YnR5cGUgL1R5cGUxCi9UeXBlIC9Gb250Cj4+CmVuZG9iago3IDAgb2JqCjw8Ci9Gb250IDw8L0YxIDUgMCBSCi9GMiA2IDAgUj4+Ci9Qcm9jU2V0IFsvUERGIC9UZXh0IC9JbWFnZUIgL0ltYWdlQyAvSW1hZ2VJXQo+PgplbmRvYmoKOCAwIG9iago8PAovQ3JlYXRpb25EYXRlIChEOjIwMjMwOTEyMTYyODI1WjE2JzI4JykKPj4KZW5kb2JqCnhyZWYKMCA5CjAwMDAwMDAwMDAgNjU1MzUgZiAKMDAwMDAwMDAwOSAwMDAwMCBuIAowMDAwMDAwMDk2IDAwMDAwIG4gCjAwMDAwMDAxOTkgMDAwMDAgbiAKMDAwMDAwMDI3OSAwMDAwMCBuIAowMDAwMDAwNzgwIDAwMDAwIG4gCjAwMDAwMDA4NzkgMDAwMDAgbiAKMDAwMDAwMDk3NyAwMDAwMCBuIAowMDAwMDAxMDc0IDAwMDAwIG4gCnRyYWlsZXIKPDwKL1NpemUgOQovUm9vdCAyIDAgUgovSW5mbyA4IDAgUgovSUQgWzxCQUU1Mjk5ODRDQzlEOTk2Qzc0NzY1RDFEM0FEMkEzND48QkFFNTI5OTg0Q0M5RDk5NkM3NDc2NUQxRDNBRDJBMzQ+XQo+PgpzdGFydHhyZWYKMTEzNQolJUVPRgo=\" type=\"application/pdf\" width=\"800\"/>"
      ],
      "text/plain": [
       "<IPython.core.display.HTML object>"
      ]
     },
     "metadata": {},
     "output_type": "display_data"
    }
   ],
   "source": [
    "pdf = FPDF()\n",
    "pdf.add_page()\n",
    "pdf.set_font(\"Times\", size=16)\n",
    "pdf.set_draw_color(50)  # very dark grey\n",
    "pdf.set_line_width(.5)\n",
    "with pdf.table(borders_layout=\"SINGLE_TOP_LINE\",cell_fill_color=200, cell_fill_mode=\"ROWS\") as table:\n",
    "    for data_row in TABLE_DATA:\n",
    "        row = table.row()\n",
    "        for datum in data_row:\n",
    "            row.cell(datum)\n",
    "pdf_bytes = pdf.output()\n",
    "disp_pdf(pdf_bytes)"
   ]
  },
  {
   "cell_type": "markdown",
   "metadata": {},
   "source": [
    "### Simplification of table"
   ]
  },
  {
   "cell_type": "code",
   "execution_count": 12,
   "metadata": {
    "scrolled": false
   },
   "outputs": [
    {
     "data": {
      "text/html": [
       "<embed height=\"400\" src=\"data:application/pdf;base64,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\" type=\"application/pdf\" width=\"800\"/>"
      ],
      "text/plain": [
       "<IPython.core.display.HTML object>"
      ]
     },
     "metadata": {},
     "output_type": "display_data"
    }
   ],
   "source": [
    "pdf = FPDF()\n",
    "pdf.add_page()\n",
    "pdf.set_font(\"Times\", size=16)\n",
    "with pdf.table(TABLE_DATA):\n",
    "    pass\n",
    "pdf_bytes = pdf.output()\n",
    "disp_pdf(pdf_bytes)"
   ]
  },
  {
   "cell_type": "markdown",
   "metadata": {},
   "source": [
    "### Adding Gutter in-between cells"
   ]
  },
  {
   "cell_type": "code",
   "execution_count": 13,
   "metadata": {
    "scrolled": false
   },
   "outputs": [
    {
     "data": {
      "text/html": [
       "<embed height=\"400\" src=\"data:application/pdf;base64,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\" type=\"application/pdf\" width=\"800\"/>"
      ],
      "text/plain": [
       "<IPython.core.display.HTML object>"
      ]
     },
     "metadata": {},
     "output_type": "display_data"
    }
   ],
   "source": [
    "pdf = FPDF()\n",
    "pdf.add_page()\n",
    "pdf.set_font(\"Times\", size=16)\n",
    "with pdf.table(TABLE_DATA, gutter_height=3, gutter_width=3):\n",
    "    pass\n",
    "pdf_bytes = pdf.output()\n",
    "disp_pdf(pdf_bytes)"
   ]
  },
  {
   "cell_type": "markdown",
   "metadata": {},
   "source": [
    "### Column width & Cell span columns"
   ]
  },
  {
   "cell_type": "code",
   "execution_count": 14,
   "metadata": {},
   "outputs": [
    {
     "data": {
      "text/html": [
       "<embed height=\"400\" src=\"data:application/pdf;base64,JVBERi0xLjMKMSAwIG9iago8PAovQ291bnQgMQovS2lkcyBbMyAwIFJdCi9NZWRpYUJveCBbMCAwIDU5NS4yOCA4NDEuODldCi9UeXBlIC9QYWdlcwo+PgplbmRvYmoKMiAwIG9iago8PAovT3BlbkFjdGlvbiBbMyAwIFIgL0ZpdEggbnVsbF0KL1BhZ2VMYXlvdXQgL09uZUNvbHVtbgovUGFnZXMgMSAwIFIKL1R5cGUgL0NhdGFsb2cKPj4KZW5kb2JqCjMgMCBvYmoKPDwKL0NvbnRlbnRzIDQgMCBSCi9QYXJlbnQgMSAwIFIKL1Jlc291cmNlcyA3IDAgUgovVHlwZSAvUGFnZQo+PgplbmRvYmoKNCAwIG9iago8PAovRmlsdGVyIC9GbGF0ZURlY29kZQovTGVuZ3RoIDMzNAo+PgpzdHJlYW0KeJyVlLFSxDAMRPv7CpXQGNuynbi8m4GClnwCQ8FAze/jTGJZlhLMld68W+9Gynl4vVgTJ/i53BZ4enHgkrEWlg94XjbJd5KfDUaYHZoY4Bu24zS79fgFbyCeOyy/TfW8Ar1ChLLYhSOgxEJn3AxT9mYKsLzDg32E5ZMyD2uMU0gCY3lkeZNeIUJ7UBVNlGgOZ5Mt7+Lu6zLOIYkQs/Ged+kVIrQHddHEOpYYDCLv4u/rMs4hiZiSyci79AoR2oO6aKJEC8kbG3kX/KOLWNr9GPK/l1ruSj0ri004Atp3kWzNfKVlGl8gidOXrwjtUVNqgq08i0l7Mr5iPL1eaYT2qDE1wTaAxQw1phjGfnTTybDq19P8e6URymITjoA274LuCW807/EFkjh/1ZLQHjWlJtjfAouJct7nV4xn1SuN0B41pibYvFlMmvcvgiF3iQplbmRzdHJlYW0KZW5kb2JqCjUgMCBvYmoKPDwKL0Jhc2VGb250IC9UaW1lcy1Sb21hbgovRW5jb2RpbmcgL1dpbkFuc2lFbmNvZGluZwovU3VidHlwZSAvVHlwZTEKL1R5cGUgL0ZvbnQKPj4KZW5kb2JqCjYgMCBvYmoKPDwKL0Jhc2VGb250IC9UaW1lcy1Cb2xkCi9FbmNvZGluZyAvV2luQW5zaUVuY29kaW5nCi9TdWJ0eXBlIC9UeXBlMQovVHlwZSAvRm9udAo+PgplbmRvYmoKNyAwIG9iago8PAovRm9udCA8PC9GMSA1IDAgUgovRjIgNiAwIFI+PgovUHJvY1NldCBbL1BERiAvVGV4dCAvSW1hZ2VCIC9JbWFnZUMgL0ltYWdlSV0KPj4KZW5kb2JqCjggMCBvYmoKPDwKL0NyZWF0aW9uRGF0ZSAoRDoyMDIzMDkxMjE2MjgyNVoxNicyOCcpCj4+CmVuZG9iagp4cmVmCjAgOQowMDAwMDAwMDAwIDY1NTM1IGYgCjAwMDAwMDAwMDkgMDAwMDAgbiAKMDAwMDAwMDA5NiAwMDAwMCBuIAowMDAwMDAwMTk5IDAwMDAwIG4gCjAwMDAwMDAyNzkgMDAwMDAgbiAKMDAwMDAwMDY4NSAwMDAwMCBuIAowMDAwMDAwNzg0IDAwMDAwIG4gCjAwMDAwMDA4ODIgMDAwMDAgbiAKMDAwMDAwMDk3OSAwMDAwMCBuIAp0cmFpbGVyCjw8Ci9TaXplIDkKL1Jvb3QgMiAwIFIKL0luZm8gOCAwIFIKL0lEIFs8Njk5MDMzQzE4NDc4QUZGNzE1NTkyNTI4Q0ZCMTQzQkU+PDY5OTAzM0MxODQ3OEFGRjcxNTU5MjUyOENGQjE0M0JFPl0KPj4Kc3RhcnR4cmVmCjEwNDAKJSVFT0YK\" type=\"application/pdf\" width=\"800\"/>"
      ],
      "text/plain": [
       "<IPython.core.display.HTML object>"
      ]
     },
     "metadata": {},
     "output_type": "display_data"
    }
   ],
   "source": [
    "pdf = FPDF()\n",
    "pdf.add_page()\n",
    "pdf.set_font(\"Times\", size=16)\n",
    "with pdf.table(col_widths=(1,2,1,1)) as table:\n",
    "    row = table.row()\n",
    "    row.cell(\"0\")\n",
    "    row.cell(\"1\")\n",
    "    row.cell(\"2\")\n",
    "    row.cell(\"3\")\n",
    "\n",
    "    row = table.row()\n",
    "    row.cell(\"A1\")\n",
    "    row.cell(\"A2\", colspan=2)\n",
    "    row.cell(\"A4\")\n",
    "\n",
    "    row = table.row()\n",
    "    row.cell(\"B1\", colspan=2)\n",
    "    row.cell(\"B3\")\n",
    "    row.cell(\"B4\")\n",
    "    \n",
    "pdf_bytes = pdf.output()\n",
    "disp_pdf(pdf_bytes)"
   ]
  },
  {
   "cell_type": "code",
   "execution_count": null,
   "metadata": {},
   "outputs": [],
   "source": []
  }
 ],
 "metadata": {
  "kernelspec": {
   "display_name": "Python 3 (ipykernel)",
   "language": "python",
   "name": "python3"
  },
  "language_info": {
   "codemirror_mode": {
    "name": "ipython",
    "version": 3
   },
   "file_extension": ".py",
   "mimetype": "text/x-python",
   "name": "python",
   "nbconvert_exporter": "python",
   "pygments_lexer": "ipython3",
   "version": "3.10.0"
  }
 },
 "nbformat": 4,
 "nbformat_minor": 2
}
