{
 "cells": [
  {
   "cell_type": "code",
   "execution_count": 1,
   "metadata": {},
   "outputs": [],
   "source": [
    "from fpdf import FPDF\n",
    "from base64 import b64encode\n",
    "from IPython.display import display, HTML"
   ]
  },
  {
   "cell_type": "markdown",
   "metadata": {},
   "source": [
    "### Generate a PDF:"
   ]
  },
  {
   "cell_type": "code",
   "execution_count": 2,
   "metadata": {},
   "outputs": [],
   "source": [
    "pdf = FPDF()\n",
    "pdf.add_page()\n",
    "pdf.set_font('helvetica', size=48)\n",
    "pdf.cell(txt=\"hello world\")\n",
    "pdf_bytes = pdf.output()"
   ]
  },
  {
   "cell_type": "markdown",
   "metadata": {},
   "source": [
    "### Display the PDF in the notebook by embedding it as HTML content:"
   ]
  },
  {
   "cell_type": "code",
   "execution_count": 3,
   "metadata": {},
   "outputs": [
    {
     "data": {
      "text/html": [
       "<embed height=\"400\" src=\"data:application/pdf;base64,JVBERi0xLjMKMSAwIG9iago8PAovQ291bnQgMQovS2lkcyBbMyAwIFJdCi9NZWRpYUJveCBbMCAwIDU5NS4yOCA4NDEuODldCi9UeXBlIC9QYWdlcwo+PgplbmRvYmoKMiAwIG9iago8PAovT3BlbkFjdGlvbiBbMyAwIFIgL0ZpdEggbnVsbF0KL1BhZ2VMYXlvdXQgL09uZUNvbHVtbgovUGFnZXMgMSAwIFIKL1R5cGUgL0NhdGFsb2cKPj4KZW5kb2JqCjMgMCBvYmoKPDwKL0NvbnRlbnRzIDQgMCBSCi9QYXJlbnQgMSAwIFIKL1Jlc291cmNlcyA2IDAgUgovVHlwZSAvUGFnZQo+PgplbmRvYmoKNCAwIG9iago8PAovRmlsdGVyIC9GbGF0ZURlY29kZQovTGVuZ3RoIDczCj4+CnN0cmVhbQp4nDNS8OIy0DM1VyjncgpR0HczVDCx0DMwUAhJU3ANAQkZG+oZWiiYm5vqGZoohKQoaGSk5uTkK5TnF+WkaCqEZIGUAQALrhByCmVuZHN0cmVhbQplbmRvYmoKNSAwIG9iago8PAovQmFzZUZvbnQgL0hlbHZldGljYQovRW5jb2RpbmcgL1dpbkFuc2lFbmNvZGluZwovU3VidHlwZSAvVHlwZTEKL1R5cGUgL0ZvbnQKPj4KZW5kb2JqCjYgMCBvYmoKPDwKL0ZvbnQgPDwvRjEgNSAwIFI+PgovUHJvY1NldCBbL1BERiAvVGV4dCAvSW1hZ2VCIC9JbWFnZUMgL0ltYWdlSV0KPj4KZW5kb2JqCjcgMCBvYmoKPDwKL0NyZWF0aW9uRGF0ZSAoRDoyMDIzMDkxMDEwMDYxMVoxMCcwNicpCj4+CmVuZG9iagp4cmVmCjAgOAowMDAwMDAwMDAwIDY1NTM1IGYgCjAwMDAwMDAwMDkgMDAwMDAgbiAKMDAwMDAwMDA5NiAwMDAwMCBuIAowMDAwMDAwMTk5IDAwMDAwIG4gCjAwMDAwMDAyNzkgMDAwMDAgbiAKMDAwMDAwMDQyMyAwMDAwMCBuIAowMDAwMDAwNTIwIDAwMDAwIG4gCjAwMDAwMDA2MDcgMDAwMDAgbiAKdHJhaWxlcgo8PAovU2l6ZSA4Ci9Sb290IDIgMCBSCi9JbmZvIDcgMCBSCi9JRCBbPDg4REY0QTFERTJGM0RBMEM0MEQxRTY0REM1QjhFMkIwPjw4OERGNEExREUyRjNEQTBDNDBEMUU2NERDNUI4RTJCMD5dCj4+CnN0YXJ0eHJlZgo2NjgKJSVFT0YK\" type=\"application/pdf\" width=\"800\"/>"
      ],
      "text/plain": [
       "<IPython.core.display.HTML object>"
      ]
     },
     "metadata": {},
     "output_type": "display_data"
    }
   ],
   "source": [
    "WIDTH, HEIGHT = 800, 400 \n",
    "base64_pdf = b64encode(pdf_bytes).decode(\"utf-8\")\n",
    "display(HTML(f'<embed height=\"{HEIGHT}\" src=\"data:application/pdf;base64,{base64_pdf}\" type=\"application/pdf\" width=\"{WIDTH}\"/>'))"
   ]
  },
  {
   "cell_type": "code",
   "execution_count": 4,
   "metadata": {},
   "outputs": [],
   "source": [
    "TABLE_DATA = (\n",
    "    (\"First name\", \"Last name\", \"Age\", \"City\"),\n",
    "    (\"Jules\", \"Smith\", \"34\", \"San Juan\"),\n",
    "    (\"Mary\", \"Ramos\", \"45\", \"Orlando\"),\n",
    "    (\"Carlson\", \"Banks\", \"19\", \"Los Angeles\"),\n",
    "    (\"Lucas\", \"Cimon\", \"31\", \"Saint-Mahturin-sur-Loire\"),\n",
    ")"
   ]
  },
  {
   "cell_type": "code",
   "execution_count": 6,
   "metadata": {},
   "outputs": [],
   "source": [
    "pdf2 = FPDF()\n",
    "pdf2.add_page()\n",
    "pdf2.set_font(\"Times\", size=16)\n",
    "with pdf2.table() as table:\n",
    "    for data_row in TABLE_DATA:\n",
    "        row = table.row()\n",
    "        for datum in data_row:\n",
    "            row.cell(datum)\n",
    "pdf_bytes2 = pdf2.output()"
   ]
  },
  {
   "cell_type": "code",
   "execution_count": 7,
   "metadata": {},
   "outputs": [
    {
     "data": {
      "text/html": [
       "<embed height=\"400\" src=\"data:application/pdf;base64,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\" type=\"application/pdf\" width=\"800\"/>"
      ],
      "text/plain": [
       "<IPython.core.display.HTML object>"
      ]
     },
     "metadata": {},
     "output_type": "display_data"
    }
   ],
   "source": [
    "base64_pdf2 = b64encode(pdf_bytes2).decode(\"utf-8\")\n",
    "display(HTML(f'<embed height=\"{HEIGHT}\" src=\"data:application/pdf;base64,{base64_pdf2}\" type=\"application/pdf\" width=\"{WIDTH}\"/>'))"
   ]
  },
  {
   "cell_type": "code",
   "execution_count": null,
   "metadata": {},
   "outputs": [],
   "source": []
  }
 ],
 "metadata": {
  "kernelspec": {
   "display_name": "Python 3 (ipykernel)",
   "language": "python",
   "name": "python3"
  },
  "language_info": {
   "codemirror_mode": {
    "name": "ipython",
    "version": 3
   },
   "file_extension": ".py",
   "mimetype": "text/x-python",
   "name": "python",
   "nbconvert_exporter": "python",
   "pygments_lexer": "ipython3",
   "version": "3.10.0"
  }
 },
 "nbformat": 4,
 "nbformat_minor": 2
}
